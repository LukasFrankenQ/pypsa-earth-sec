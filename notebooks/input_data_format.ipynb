{
 "cells": [
  {
   "cell_type": "code",
   "execution_count": 1,
   "metadata": {},
   "outputs": [],
   "source": [
    "import pandas as pd\n",
    "import numpy as np\n",
    "import matplotlib.pyplot as plt\n",
    "import geopandas as gpd\n",
    "from pathlib import Path"
   ]
  },
  {
   "cell_type": "code",
   "execution_count": 2,
   "metadata": {},
   "outputs": [],
   "source": [
    "regions = gpd.read_file(\n",
    "    Path.cwd() / \n",
    "    'misc_data' /\n",
    "    'zip_data' /\n",
    "    'backup_copy' /\n",
    "    'resources' /\n",
    "    'US_2021' /\n",
    "    'bus_regions' /\n",
    "    'regions_onshore_elec_s.geojson' /\n",
    "    'regions_onshore_elec_s.geojson'\n",
    ")"
   ]
  },
  {
   "cell_type": "code",
   "execution_count": 3,
   "metadata": {},
   "outputs": [],
   "source": [
    "minx, miny, maxx, maxy = regions.total_bounds\n",
    "# minx, miny, maxx, maxy = 27.54, -13.68, 36.13, -1.07"
   ]
  },
  {
   "cell_type": "code",
   "execution_count": 4,
   "metadata": {},
   "outputs": [],
   "source": [
    "n = 100\n",
    "\n",
    "index = pd.MultiIndex.from_product([\n",
    "    np.linspace(minx, maxx, int(n * 2 * (maxx - minx) / ((maxy - miny) + (maxx - minx)))),\n",
    "    np.linspace(miny, maxy, int(n * 2 * (maxy - miny) / ((maxy - miny) + (maxx - minx)))),\n",
    "    np.arange(2)\n",
    "], names=['lon', 'lat', 'depth'])"
   ]
  },
  {
   "cell_type": "code",
   "execution_count": 5,
   "metadata": {},
   "outputs": [],
   "source": [
    "data = pd.DataFrame(\n",
    "    {col: np.random.rand(len(index)) for col in ['capex', 'opex']},\n",
    "    index=index,\n",
    "    )"
   ]
  },
  {
   "cell_type": "code",
   "execution_count": 6,
   "metadata": {},
   "outputs": [],
   "source": [
    "gdf = gpd.GeoDataFrame(data, geometry=gpd.points_from_xy(data.index.get_level_values('lon'), data.index.get_level_values('lat')))\n",
    "gdf.reset_index().to_file('egs_potential_data.geojson', driver='GeoJSON')"
   ]
  },
  {
   "cell_type": "code",
   "execution_count": 7,
   "metadata": {},
   "outputs": [],
   "source": [
    "data.to_csv('egs_dummy_data.csv')"
   ]
  },
  {
   "cell_type": "code",
   "execution_count": 12,
   "metadata": {},
   "outputs": [],
   "source": [
    "gdf = gpd.GeoDataFrame(\n",
    "    data, geometry=gpd.points_from_xy(\n",
    "        data.index.get_level_values('lon'),\n",
    "        data.index.get_level_values('lat')\n",
    "        )).set_crs(epsg=4326)"
   ]
  },
  {
   "cell_type": "code",
   "execution_count": 13,
   "metadata": {},
   "outputs": [
    {
     "data": {
      "text/html": [
       "<div>\n",
       "<style scoped>\n",
       "    .dataframe tbody tr th:only-of-type {\n",
       "        vertical-align: middle;\n",
       "    }\n",
       "\n",
       "    .dataframe tbody tr th {\n",
       "        vertical-align: top;\n",
       "    }\n",
       "\n",
       "    .dataframe thead th {\n",
       "        text-align: right;\n",
       "    }\n",
       "</style>\n",
       "<table border=\"1\" class=\"dataframe\">\n",
       "  <thead>\n",
       "    <tr style=\"text-align: right;\">\n",
       "      <th></th>\n",
       "      <th>x</th>\n",
       "      <th>y</th>\n",
       "      <th>country</th>\n",
       "      <th>geometry</th>\n",
       "    </tr>\n",
       "    <tr>\n",
       "      <th>name</th>\n",
       "      <th></th>\n",
       "      <th></th>\n",
       "      <th></th>\n",
       "      <th></th>\n",
       "    </tr>\n",
       "  </thead>\n",
       "  <tbody>\n",
       "    <tr>\n",
       "      <th>US0 0</th>\n",
       "      <td>-86.849150</td>\n",
       "      <td>37.630017</td>\n",
       "      <td>US</td>\n",
       "      <td>POLYGON ((-88.02306 37.05564, -87.97266 37.171...</td>\n",
       "    </tr>\n",
       "    <tr>\n",
       "      <th>US0 1</th>\n",
       "      <td>-118.092553</td>\n",
       "      <td>34.545968</td>\n",
       "      <td>US</td>\n",
       "      <td>MULTIPOLYGON (((-118.60611 33.03222, -118.5636...</td>\n",
       "    </tr>\n",
       "    <tr>\n",
       "      <th>US0 10</th>\n",
       "      <td>-102.004899</td>\n",
       "      <td>35.193976</td>\n",
       "      <td>US</td>\n",
       "      <td>POLYGON ((-102.65560 33.73977, -102.88748 33.8...</td>\n",
       "    </tr>\n",
       "    <tr>\n",
       "      <th>US0 11</th>\n",
       "      <td>-89.341467</td>\n",
       "      <td>34.309523</td>\n",
       "      <td>US</td>\n",
       "      <td>POLYGON ((-90.47559 33.42673, -90.48394 33.431...</td>\n",
       "    </tr>\n",
       "    <tr>\n",
       "      <th>US0 12</th>\n",
       "      <td>-98.452518</td>\n",
       "      <td>44.175122</td>\n",
       "      <td>US</td>\n",
       "      <td>POLYGON ((-99.17733 42.84738, -99.21531 42.869...</td>\n",
       "    </tr>\n",
       "    <tr>\n",
       "      <th>...</th>\n",
       "      <td>...</td>\n",
       "      <td>...</td>\n",
       "      <td>...</td>\n",
       "      <td>...</td>\n",
       "    </tr>\n",
       "    <tr>\n",
       "      <th>US0 97</th>\n",
       "      <td>-122.467789</td>\n",
       "      <td>44.994629</td>\n",
       "      <td>US</td>\n",
       "      <td>MULTIPOLYGON (((-124.37234 42.19547, -124.4144...</td>\n",
       "    </tr>\n",
       "    <tr>\n",
       "      <th>US0 98</th>\n",
       "      <td>-110.217780</td>\n",
       "      <td>35.067141</td>\n",
       "      <td>US</td>\n",
       "      <td>POLYGON ((-110.57445 33.86841, -110.61908 33.8...</td>\n",
       "    </tr>\n",
       "    <tr>\n",
       "      <th>US0 99</th>\n",
       "      <td>-93.655732</td>\n",
       "      <td>46.640458</td>\n",
       "      <td>US</td>\n",
       "      <td>POLYGON ((-95.24877 45.64291, -95.25424 45.654...</td>\n",
       "    </tr>\n",
       "    <tr>\n",
       "      <th>US1 0</th>\n",
       "      <td>-98.585400</td>\n",
       "      <td>46.725000</td>\n",
       "      <td>US</td>\n",
       "      <td>POLYGON ((-98.37798 46.67805, -98.39264 46.583...</td>\n",
       "    </tr>\n",
       "    <tr>\n",
       "      <th>US2 0</th>\n",
       "      <td>-71.736700</td>\n",
       "      <td>45.011100</td>\n",
       "      <td>US</td>\n",
       "      <td>POLYGON ((-71.50995 44.86395, -71.76210 44.717...</td>\n",
       "    </tr>\n",
       "  </tbody>\n",
       "</table>\n",
       "<p>102 rows × 4 columns</p>\n",
       "</div>"
      ],
      "text/plain": [
       "                 x          y country  \\\n",
       "name                                    \n",
       "US0 0   -86.849150  37.630017      US   \n",
       "US0 1  -118.092553  34.545968      US   \n",
       "US0 10 -102.004899  35.193976      US   \n",
       "US0 11  -89.341467  34.309523      US   \n",
       "US0 12  -98.452518  44.175122      US   \n",
       "...            ...        ...     ...   \n",
       "US0 97 -122.467789  44.994629      US   \n",
       "US0 98 -110.217780  35.067141      US   \n",
       "US0 99  -93.655732  46.640458      US   \n",
       "US1 0   -98.585400  46.725000      US   \n",
       "US2 0   -71.736700  45.011100      US   \n",
       "\n",
       "                                                 geometry  \n",
       "name                                                       \n",
       "US0 0   POLYGON ((-88.02306 37.05564, -87.97266 37.171...  \n",
       "US0 1   MULTIPOLYGON (((-118.60611 33.03222, -118.5636...  \n",
       "US0 10  POLYGON ((-102.65560 33.73977, -102.88748 33.8...  \n",
       "US0 11  POLYGON ((-90.47559 33.42673, -90.48394 33.431...  \n",
       "US0 12  POLYGON ((-99.17733 42.84738, -99.21531 42.869...  \n",
       "...                                                   ...  \n",
       "US0 97  MULTIPOLYGON (((-124.37234 42.19547, -124.4144...  \n",
       "US0 98  POLYGON ((-110.57445 33.86841, -110.61908 33.8...  \n",
       "US0 99  POLYGON ((-95.24877 45.64291, -95.25424 45.654...  \n",
       "US1 0   POLYGON ((-98.37798 46.67805, -98.39264 46.583...  \n",
       "US2 0   POLYGON ((-71.50995 44.86395, -71.76210 44.717...  \n",
       "\n",
       "[102 rows x 4 columns]"
      ]
     },
     "execution_count": 13,
     "metadata": {},
     "output_type": "execute_result"
    }
   ],
   "source": [
    "# regions.sjoin(gdf, how='inner', op='intersects')\n",
    "regions"
   ]
  },
  {
   "cell_type": "code",
   "execution_count": 14,
   "metadata": {},
   "outputs": [
    {
     "name": "stderr",
     "output_type": "stream",
     "text": [
      "2it [00:00, 15.28it/s]"
     ]
    },
    {
     "name": "stdout",
     "output_type": "stream",
     "text": [
      "6.7094372113453105\n",
      "spatial stuff\n",
      "150\n",
      "cost stuff\n",
      "7.783283805417879\n",
      "spatial stuff\n",
      "140\n",
      "cost stuff\n",
      "12.095609383432365\n",
      "spatial stuff\n",
      "250\n",
      "cost stuff\n",
      "5.81641719008106\n",
      "spatial stuff\n",
      "130\n",
      "cost stuff\n",
      "9.044347327984575\n",
      "spatial stuff\n"
     ]
    },
    {
     "name": "stderr",
     "output_type": "stream",
     "text": [
      "5it [00:00, 19.98it/s]"
     ]
    },
    {
     "name": "stdout",
     "output_type": "stream",
     "text": [
      "170\n",
      "cost stuff\n",
      "5.799072450897796\n",
      "spatial stuff\n",
      "100\n",
      "cost stuff\n",
      "148.33665492305164\n",
      "spatial stuff\n"
     ]
    },
    {
     "name": "stderr",
     "output_type": "stream",
     "text": [
      "7it [01:25, 16.90s/it]"
     ]
    },
    {
     "name": "stdout",
     "output_type": "stream",
     "text": [
      "3140\n",
      "cost stuff\n",
      "5.451047293443264\n",
      "spatial stuff\n",
      "110\n",
      "cost stuff\n",
      "1.7218577984925085\n",
      "spatial stuff\n"
     ]
    },
    {
     "name": "stderr",
     "output_type": "stream",
     "text": [
      "11it [01:29,  7.60s/it]"
     ]
    },
    {
     "name": "stdout",
     "output_type": "stream",
     "text": [
      "20\n",
      "cost stuff\n",
      "6.965009737873912\n",
      "spatial stuff\n",
      "140\n",
      "cost stuff\n",
      "6.329506379995589\n",
      "spatial stuff\n",
      "150\n",
      "cost stuff\n",
      "10.47105866402628\n",
      "spatial stuff\n",
      "220\n",
      "cost stuff\n",
      "7.273594844025959\n",
      "spatial stuff\n",
      "140\n",
      "cost stuff\n"
     ]
    },
    {
     "name": "stderr",
     "output_type": "stream",
     "text": [
      "16it [01:29,  3.17s/it]"
     ]
    },
    {
     "name": "stdout",
     "output_type": "stream",
     "text": [
      "13.98568642308638\n",
      "spatial stuff\n",
      "310\n",
      "cost stuff\n",
      "6.180181125730919\n",
      "spatial stuff\n",
      "130\n",
      "cost stuff\n",
      "12.990504369332617\n",
      "spatial stuff\n",
      "290\n",
      "cost stuff\n",
      "6.33168727083436\n",
      "spatial stuff\n",
      "150\n",
      "cost stuff\n",
      "6.196800412153003\n",
      "spatial stuff\n"
     ]
    },
    {
     "name": "stderr",
     "output_type": "stream",
     "text": [
      "21it [01:30,  1.43s/it]"
     ]
    },
    {
     "name": "stdout",
     "output_type": "stream",
     "text": [
      "150\n",
      "cost stuff\n",
      "9.088407711346989\n",
      "spatial stuff\n",
      "210\n",
      "cost stuff\n",
      "5.495410279137203\n",
      "spatial stuff\n",
      "110\n",
      "cost stuff\n",
      "3.7689693850249233\n",
      "spatial stuff\n",
      "90\n",
      "cost stuff\n",
      "5.42084912939977\n",
      "spatial stuff\n"
     ]
    },
    {
     "name": "stderr",
     "output_type": "stream",
     "text": [
      "23it [01:30,  1.06s/it]"
     ]
    },
    {
     "name": "stdout",
     "output_type": "stream",
     "text": [
      "110\n",
      "cost stuff\n",
      "13.06904435940317\n",
      "spatial stuff\n",
      "280\n",
      "cost stuff\n",
      "5.9459179364178265\n",
      "spatial stuff\n"
     ]
    },
    {
     "name": "stderr",
     "output_type": "stream",
     "text": [
      "25it [01:30,  1.21it/s]"
     ]
    },
    {
     "name": "stdout",
     "output_type": "stream",
     "text": [
      "140\n",
      "cost stuff\n",
      "6.025808731442538\n",
      "spatial stuff\n",
      "110\n",
      "cost stuff\n",
      "8.865205575336358\n",
      "spatial stuff\n",
      "190\n",
      "cost stuff\n",
      "10.175826603750652\n",
      "spatial stuff\n",
      "250\n",
      "cost stuff\n",
      "5.718915006918779\n",
      "spatial stuff\n"
     ]
    },
    {
     "name": "stderr",
     "output_type": "stream",
     "text": [
      "28it [01:31,  1.83it/s]"
     ]
    },
    {
     "name": "stdout",
     "output_type": "stream",
     "text": [
      "120\n",
      "cost stuff\n",
      "5.752908818922083\n",
      "spatial stuff\n",
      "120\n",
      "cost stuff\n",
      "6.712049585640449\n",
      "spatial stuff\n",
      "130\n",
      "cost stuff\n",
      "154.0400132416867\n",
      "spatial stuff\n"
     ]
    },
    {
     "name": "stderr",
     "output_type": "stream",
     "text": [
      "28it [01:41,  1.83it/s]"
     ]
    }
   ],
   "source": [
    "from tqdm import tqdm\n",
    "\n",
    "max_levels = 10\n",
    "\n",
    "region_data = []\n",
    "\n",
    "for name, geom in tqdm(regions.geometry.items()):\n",
    "    # print(name)\n",
    "\n",
    "    print(geom.area)\n",
    "\n",
    "    print('spatial stuff')\n",
    "    ss = gdf.loc[gdf.geometry.within(geom)]\n",
    "    print(len(ss))\n",
    "\n",
    "    if ss.empty:\n",
    "        continue\n",
    "    \n",
    "    # print(ss)\n",
    "\n",
    "    # import matplotlib.pyplot as plt\n",
    "\n",
    "    # fig, ax = plt.subplots()\n",
    "\n",
    "    # regions.loc[[name]].plot(ax=ax)\n",
    "    # ss.plot(ax=ax, color='red')\n",
    "\n",
    "    # plt.show()\n",
    "\n",
    "    print('cost stuff')\n",
    "    ss = (\n",
    "        ss[['capex', 'opex']]\n",
    "        .reset_index(drop=True)\n",
    "        .sort_values(by='capex')\n",
    "    )\n",
    "\n",
    "    # print('Warning! Potential has to be replaced by non-dummy number!')\n",
    "    ss['potential'] = ss.index\n",
    "    ss['agg_potential'] = ss['potential'].cumsum()\n",
    "\n",
    "    bins = pd.Series(np.linspace(ss['capex'].min(), ss['capex'].max(), max_levels+1))\n",
    "    labels = bins.rolling(2).mean().dropna().tolist()\n",
    "\n",
    "    ss['level'] = pd.cut(ss['capex'], bins=bins, labels=labels)\n",
    "\n",
    "    ss = ss.groupby('level')[['potential', 'opex']].agg({'potential': 'sum', 'opex': 'mean'})\n",
    "    ss.index = pd.MultiIndex.from_product([[name], ss.index], names=['network_region', 'capex'])\n",
    "\n",
    "    # print(ss)\n",
    "    region_data.append(ss)\n",
    "\n",
    "\n",
    "# ss = gdf.sample(100)\n",
    "# ss = ss.sort_values(by='capex').reset_index(drop=True)[['capex', 'opex']]# .groupby(ss.index.values).mean()\n",
    "\n",
    "# ss"
   ]
  },
  {
   "cell_type": "code",
   "execution_count": null,
   "metadata": {},
   "outputs": [],
   "source": [
    "pd.concat(region_data)"
   ]
  },
  {
   "cell_type": "code",
   "execution_count": 55,
   "metadata": {},
   "outputs": [
    {
     "name": "stdout",
     "output_type": "stream",
     "text": [
      "       capex      opex  pot  agg_pot     level\n",
      "0   0.003249  0.482690    0        0       NaN\n",
      "1   0.006444  0.384545    1        1  0.053044\n",
      "2   0.008866  0.773507    2        3  0.053044\n",
      "3   0.016528  0.735553    3        6  0.053044\n",
      "4   0.024013  0.371547    4       10  0.053044\n",
      "..       ...       ...  ...      ...       ...\n",
      "95  0.943791  0.773069   95     4560  0.949355\n",
      "96  0.960195  0.734417   96     4656  0.949355\n",
      "97  0.963203  0.067275   97     4753  0.949355\n",
      "98  0.982898  0.602629   98     4851  0.949355\n",
      "99  0.999150  0.574881   99     4950  0.949355\n",
      "\n",
      "[100 rows x 5 columns]\n",
      "[0.00324903 0.10283916 0.20242928 0.30201941 0.40160954 0.50119966\n",
      " 0.60078979 0.70037992 0.79997004 0.89956017 0.99915029] [0.05304409423490228, 0.15263422057597945, 0.25222434691705664, 0.35181447325813375, 0.4514045995992109, 0.5509947259402881, 0.6505848522813653, 0.7501749786224424, 0.8497651049635196, 0.9493552313045968]\n"
     ]
    },
    {
     "data": {
      "image/png": "[encoded data removed]",
      "text/plain": [
       "<Figure size 1000x400 with 1 Axes>"
      ]
     },
     "metadata": {},
     "output_type": "display_data"
    }
   ],
   "source": [
    "import matplotlib.pyplot as plt\n",
    "\n",
    "fig, ax = plt.subplots(1, 1, figsize=(10, 4))\n",
    "\n",
    "ss['pot'] = ss.index\n",
    "ss['agg_pot'] = np.cumsum(ss.index)\n",
    "\n",
    "print(ss)\n",
    "\n",
    "# ax.plot(ss.capex, ss['agg_pot'], label='Supply Curve')\n",
    "ax.plot(ss['agg_pot'], ss.capex, label='Supply Curve')\n",
    "\n",
    "bins = np.linspace(ss['capex'].min(), ss['capex'].max(), max_levels+1)\n",
    "labels = [np.mean([bins[i], bins[i+1]]) for i in range(max_levels)]\n",
    "\n",
    "print(bins, labels)\n",
    "\n",
    "ss['level'] = pd.cut(ss['capex'], bins=bins, labels=labels)\n",
    "\n",
    "grouped_pot = ss.groupby('level')['pot'].sum().cumsum()\n",
    "grouped_opex = ss.groupby('level')['opex'].mean()\n",
    "\n",
    "ss = ss.groupby('level')[['pot', 'opex']].agg({'pot': 'sum', 'opex': 'mean'})\n",
    "print(ss)\n",
    "\n",
    "# ax.step(grouped_pot.index, grouped_pot, label='grouped')\n",
    "# ax.step(bins, [0] + grouped_pot.tolist(), label='Stepwise Approximation')\n",
    "# ax.step([0] + grouped_pot.tolist(), bins, label='Stepwise Approximation')\n",
    "\n",
    "ax.step(grouped_pot.tolist(), labels, label='Stepwise Approximation')\n",
    "ax.legend()\n",
    "\n",
    "ax.set_xticks([])\n",
    "ax.set_yticks([])\n",
    "\n",
    "ax.set_xlabel('CAPEX [$/kW]')\n",
    "ax.set_ylabel('Potential [kW]')\n",
    "\n",
    "plt.show()"
   ]
  },
  {
   "cell_type": "code",
   "execution_count": 59,
   "metadata": {},
   "outputs": [
    {
     "data": {
      "text/html": [
       "<div>\n",
       "<style scoped>\n",
       "    .dataframe tbody tr th:only-of-type {\n",
       "        vertical-align: middle;\n",
       "    }\n",
       "\n",
       "    .dataframe tbody tr th {\n",
       "        vertical-align: top;\n",
       "    }\n",
       "\n",
       "    .dataframe thead th {\n",
       "        text-align: right;\n",
       "    }\n",
       "</style>\n",
       "<table border=\"1\" class=\"dataframe\">\n",
       "  <thead>\n",
       "    <tr style=\"text-align: right;\">\n",
       "      <th></th>\n",
       "      <th>pot</th>\n",
       "      <th>opex</th>\n",
       "    </tr>\n",
       "    <tr>\n",
       "      <th>level</th>\n",
       "      <th></th>\n",
       "      <th></th>\n",
       "    </tr>\n",
       "  </thead>\n",
       "  <tbody>\n",
       "    <tr>\n",
       "      <th>0.05304409423490228</th>\n",
       "      <td>55</td>\n",
       "      <td>0.657611</td>\n",
       "    </tr>\n",
       "    <tr>\n",
       "      <th>0.15263422057597945</th>\n",
       "      <td>153</td>\n",
       "      <td>0.630890</td>\n",
       "    </tr>\n",
       "    <tr>\n",
       "      <th>0.25222434691705664</th>\n",
       "      <td>435</td>\n",
       "      <td>0.461857</td>\n",
       "    </tr>\n",
       "    <tr>\n",
       "      <th>0.35181447325813375</th>\n",
       "      <td>741</td>\n",
       "      <td>0.599908</td>\n",
       "    </tr>\n",
       "    <tr>\n",
       "      <th>0.4514045995992109</th>\n",
       "      <td>1176</td>\n",
       "      <td>0.471290</td>\n",
       "    </tr>\n",
       "    <tr>\n",
       "      <th>0.5509947259402881</th>\n",
       "      <td>1596</td>\n",
       "      <td>0.498513</td>\n",
       "    </tr>\n",
       "    <tr>\n",
       "      <th>0.6505848522813653</th>\n",
       "      <td>2485</td>\n",
       "      <td>0.471578</td>\n",
       "    </tr>\n",
       "    <tr>\n",
       "      <th>0.7501749786224424</th>\n",
       "      <td>3160</td>\n",
       "      <td>0.497767</td>\n",
       "    </tr>\n",
       "    <tr>\n",
       "      <th>0.8497651049635196</th>\n",
       "      <td>3828</td>\n",
       "      <td>0.637450</td>\n",
       "    </tr>\n",
       "    <tr>\n",
       "      <th>0.9493552313045968</th>\n",
       "      <td>4950</td>\n",
       "      <td>0.568138</td>\n",
       "    </tr>\n",
       "  </tbody>\n",
       "</table>\n",
       "</div>"
      ],
      "text/plain": [
       "                      pot      opex\n",
       "level                              \n",
       "0.05304409423490228    55  0.657611\n",
       "0.15263422057597945   153  0.630890\n",
       "0.25222434691705664   435  0.461857\n",
       "0.35181447325813375   741  0.599908\n",
       "0.4514045995992109   1176  0.471290\n",
       "0.5509947259402881   1596  0.498513\n",
       "0.6505848522813653   2485  0.471578\n",
       "0.7501749786224424   3160  0.497767\n",
       "0.8497651049635196   3828  0.637450\n",
       "0.9493552313045968   4950  0.568138"
      ]
     },
     "execution_count": 59,
     "metadata": {},
     "output_type": "execute_result"
    }
   ],
   "source": [
    "total = pd.DataFrame({'pot': grouped_pot, 'opex': grouped_opex})\n",
    "total"
   ]
  },
  {
   "cell_type": "code",
   "execution_count": 61,
   "metadata": {},
   "outputs": [
    {
     "data": {
      "text/html": [
       "<div>\n",
       "<style scoped>\n",
       "    .dataframe tbody tr th:only-of-type {\n",
       "        vertical-align: middle;\n",
       "    }\n",
       "\n",
       "    .dataframe tbody tr th {\n",
       "        vertical-align: top;\n",
       "    }\n",
       "\n",
       "    .dataframe thead th {\n",
       "        text-align: right;\n",
       "    }\n",
       "</style>\n",
       "<table border=\"1\" class=\"dataframe\">\n",
       "  <thead>\n",
       "    <tr style=\"text-align: right;\">\n",
       "      <th></th>\n",
       "      <th></th>\n",
       "      <th>pot</th>\n",
       "      <th>opex</th>\n",
       "    </tr>\n",
       "    <tr>\n",
       "      <th>network_region</th>\n",
       "      <th>step</th>\n",
       "      <th></th>\n",
       "      <th></th>\n",
       "    </tr>\n",
       "  </thead>\n",
       "  <tbody>\n",
       "    <tr>\n",
       "      <th rowspan=\"10\" valign=\"top\">region</th>\n",
       "      <th>0.05304409423490228</th>\n",
       "      <td>55</td>\n",
       "      <td>0.657611</td>\n",
       "    </tr>\n",
       "    <tr>\n",
       "      <th>0.15263422057597945</th>\n",
       "      <td>153</td>\n",
       "      <td>0.630890</td>\n",
       "    </tr>\n",
       "    <tr>\n",
       "      <th>0.25222434691705664</th>\n",
       "      <td>435</td>\n",
       "      <td>0.461857</td>\n",
       "    </tr>\n",
       "    <tr>\n",
       "      <th>0.35181447325813375</th>\n",
       "      <td>741</td>\n",
       "      <td>0.599908</td>\n",
       "    </tr>\n",
       "    <tr>\n",
       "      <th>0.4514045995992109</th>\n",
       "      <td>1176</td>\n",
       "      <td>0.471290</td>\n",
       "    </tr>\n",
       "    <tr>\n",
       "      <th>0.5509947259402881</th>\n",
       "      <td>1596</td>\n",
       "      <td>0.498513</td>\n",
       "    </tr>\n",
       "    <tr>\n",
       "      <th>0.6505848522813653</th>\n",
       "      <td>2485</td>\n",
       "      <td>0.471578</td>\n",
       "    </tr>\n",
       "    <tr>\n",
       "      <th>0.7501749786224424</th>\n",
       "      <td>3160</td>\n",
       "      <td>0.497767</td>\n",
       "    </tr>\n",
       "    <tr>\n",
       "      <th>0.8497651049635196</th>\n",
       "      <td>3828</td>\n",
       "      <td>0.637450</td>\n",
       "    </tr>\n",
       "    <tr>\n",
       "      <th>0.9493552313045968</th>\n",
       "      <td>4950</td>\n",
       "      <td>0.568138</td>\n",
       "    </tr>\n",
       "  </tbody>\n",
       "</table>\n",
       "</div>"
      ],
      "text/plain": [
       "                                     pot      opex\n",
       "network_region step                               \n",
       "region         0.05304409423490228    55  0.657611\n",
       "               0.15263422057597945   153  0.630890\n",
       "               0.25222434691705664   435  0.461857\n",
       "               0.35181447325813375   741  0.599908\n",
       "               0.4514045995992109   1176  0.471290\n",
       "               0.5509947259402881   1596  0.498513\n",
       "               0.6505848522813653   2485  0.471578\n",
       "               0.7501749786224424   3160  0.497767\n",
       "               0.8497651049635196   3828  0.637450\n",
       "               0.9493552313045968   4950  0.568138"
      ]
     },
     "execution_count": 61,
     "metadata": {},
     "output_type": "execute_result"
    }
   ],
   "source": [
    "total.index = pd.MultiIndex.from_product([['region'], total.index], names=['network_region', 'step'])\n",
    "total"
   ]
  }
 ],
 "metadata": {
  "kernelspec": {
   "display_name": "Python 3",
   "language": "python",
   "name": "python3"
  },
  "language_info": {
   "codemirror_mode": {
    "name": "ipython",
    "version": 3
   },
   "file_extension": ".py",
   "mimetype": "text/x-python",
   "name": "python",
   "nbconvert_exporter": "python",
   "pygments_lexer": "ipython3",
   "version": "3.10.12"
  }
 },
 "nbformat": 4,
 "nbformat_minor": 2
}
